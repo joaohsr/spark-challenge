{
  "nbformat": 4,
  "nbformat_minor": 0,
  "metadata": {
    "colab": {
      "name": "Noverde - Data Engineer Test",
      "provenance": [],
      "collapsed_sections": [],
      "authorship_tag": "ABX9TyOXtSEtOJv3KAAUwxZQR5BJ",
      "include_colab_link": true
    },
    "kernelspec": {
      "name": "python3",
      "display_name": "Python 3"
    }
  },
  "cells": [
    {
      "cell_type": "markdown",
      "metadata": {
        "id": "view-in-github",
        "colab_type": "text"
      },
      "source": [
        "<a href=\"https://colab.research.google.com/github/joaohsr/spark-challenge/blob/master/Spark%20Challenge.ipynb\" target=\"_parent\"><img src=\"https://colab.research.google.com/assets/colab-badge.svg\" alt=\"Open In Colab\"/></a>"
      ]
    },
    {
      "cell_type": "code",
      "metadata": {
        "id": "pWb_LfFz1-xu",
        "colab_type": "code",
        "colab": {}
      },
      "source": [
        "!apt-get install openjdk-8-jdk-headless -qq > /dev/null\n",
        "!wget -q http://www-eu.apache.org/dist/spark/spark-2.4.5/spark-2.4.5-bin-hadoop2.7.tgz\n",
        "!tar xf spark-2.4.5-bin-hadoop2.7.tgz\n",
        "!pip install -q findspark\n",
        "!pip install -q pyspark"
      ],
      "execution_count": 0,
      "outputs": []
    },
    {
      "cell_type": "code",
      "metadata": {
        "id": "vaARyMQ02yhv",
        "colab_type": "code",
        "colab": {}
      },
      "source": [
        "import os\n",
        "\n",
        "os.environ[\"SPARK_HOME\"] = \"/content/spark-2.4.5-bin-hadoop2.7\"\n",
        "os.environ[\"JAVA_HOME\"] = \"/usr/lib/jvm/java-8-openjdk-amd64\""
      ],
      "execution_count": 0,
      "outputs": []
    },
    {
      "cell_type": "code",
      "metadata": {
        "id": "CK1-3hlJ3Jx-",
        "colab_type": "code",
        "colab": {}
      },
      "source": [
        "import findspark\n",
        "findspark.init()\n",
        "from pyspark.sql import SparkSession\n",
        "spark = SparkSession.builder.master(\"local[*]\").getOrCreate()"
      ],
      "execution_count": 0,
      "outputs": []
    },
    {
      "cell_type": "code",
      "metadata": {
        "id": "zoxEz3fs-k-b",
        "colab_type": "code",
        "colab": {}
      },
      "source": [
        "from pyspark import SparkFiles"
      ],
      "execution_count": 0,
      "outputs": []
    },
    {
      "cell_type": "code",
      "metadata": {
        "id": "Ad5uvVbbVXdt",
        "colab_type": "code",
        "colab": {}
      },
      "source": [
        "import pandas as pd"
      ],
      "execution_count": 0,
      "outputs": []
    },
    {
      "cell_type": "code",
      "metadata": {
        "id": "PHClKXge-vbx",
        "colab_type": "code",
        "colab": {}
      },
      "source": [
        "spark.sparkContext.addFile(\"https://noverde-data-engineering-test.s3.amazonaws.com/loans_sample.csv\")"
      ],
      "execution_count": 0,
      "outputs": []
    },
    {
      "cell_type": "code",
      "metadata": {
        "id": "3iClWg-5_ZDk",
        "colab_type": "code",
        "colab": {}
      },
      "source": [
        "spark.sparkContext.addFile(\"https://noverde-data-engineering-test.s3.amazonaws.com/installments_sample.json\")"
      ],
      "execution_count": 0,
      "outputs": []
    },
    {
      "cell_type": "code",
      "metadata": {
        "colab_type": "code",
        "id": "uiOVLUxm_aS8",
        "colab": {}
      },
      "source": [
        "spark.sparkContext.addFile(\"https://noverde-data-engineering-test.s3.amazonaws.com/payments_sample.parquet\")"
      ],
      "execution_count": 0,
      "outputs": []
    },
    {
      "cell_type": "code",
      "metadata": {
        "id": "XOpr18Uj_kKY",
        "colab_type": "code",
        "colab": {}
      },
      "source": [
        "loans = spark.read.csv(SparkFiles.get('loans_sample.csv'), header=True)"
      ],
      "execution_count": 0,
      "outputs": []
    },
    {
      "cell_type": "code",
      "metadata": {
        "id": "iv9AZEAH_E8F",
        "colab_type": "code",
        "colab": {}
      },
      "source": [
        "payments = spark.read.parquet(SparkFiles.get('payments_sample.parquet'))"
      ],
      "execution_count": 0,
      "outputs": []
    },
    {
      "cell_type": "markdown",
      "metadata": {
        "id": "WvEtg5lnedx0",
        "colab_type": "text"
      },
      "source": [
        "As I cannot build a solution using Spark to read json file schema from \"schema\" field, I decided to use pandas."
      ]
    },
    {
      "cell_type": "code",
      "metadata": {
        "id": "6W2GZxYtdrw6",
        "colab_type": "code",
        "colab": {}
      },
      "source": [
        "installments = spark.createDataFrame(pd.read_json(SparkFiles.get('installments_sample.json'), orient='table'))"
      ],
      "execution_count": 0,
      "outputs": []
    },
    {
      "cell_type": "code",
      "metadata": {
        "id": "hQUJdfYmkr5x",
        "colab_type": "code",
        "colab": {}
      },
      "source": [
        "from pyspark.sql import functions as F"
      ],
      "execution_count": 0,
      "outputs": []
    },
    {
      "cell_type": "code",
      "metadata": {
        "id": "ikmL3rKpjzWO",
        "colab_type": "code",
        "colab": {}
      },
      "source": [
        "installments = installments.orderBy(['loan_id', 'number'])"
      ],
      "execution_count": 0,
      "outputs": []
    },
    {
      "cell_type": "code",
      "metadata": {
        "id": "wkDWaeVi0PXQ",
        "colab_type": "code",
        "colab": {}
      },
      "source": [
        "new_installments = installments.withColumnRenamed('loan_id', 'id')"
      ],
      "execution_count": 0,
      "outputs": []
    },
    {
      "cell_type": "code",
      "metadata": {
        "id": "HhdxnICjTeNz",
        "colab_type": "code",
        "colab": {}
      },
      "source": [
        "new_installments = new_installments.groupBy('id').agg(F.collect_list(F.create_map('number', 'due_date')).alias('installments'))"
      ],
      "execution_count": 0,
      "outputs": []
    },
    {
      "cell_type": "code",
      "metadata": {
        "id": "1h7QXwQYovej",
        "colab_type": "code",
        "colab": {}
      },
      "source": [
        "loan_documents = loans.join(new_installments, loans.loan_id == new_installments.id, how='inner').drop('id')"
      ],
      "execution_count": 0,
      "outputs": []
    },
    {
      "cell_type": "code",
      "metadata": {
        "id": "eVMZy_9UMcVM",
        "colab_type": "code",
        "colab": {}
      },
      "source": [
        "new_payments = payments.withColumnRenamed('loan_id', 'id')"
      ],
      "execution_count": 0,
      "outputs": []
    },
    {
      "cell_type": "code",
      "metadata": {
        "id": "TSy13N0DAy7I",
        "colab_type": "code",
        "colab": {}
      },
      "source": [
        "new_payments = new_payments.groupBy(\"id\").agg(F.collect_list(F.struct([new_payments.payment_id, new_payments.payment_date, new_payments.payment_method, new_payments.paid_amount])).alias(\"payments\"))"
      ],
      "execution_count": 0,
      "outputs": []
    },
    {
      "cell_type": "code",
      "metadata": {
        "id": "2qsUHcxXxD9R",
        "colab_type": "code",
        "outputId": "9203dbf0-cd76-4486-f767-782ce489c701",
        "colab": {
          "base_uri": "https://localhost:8080/",
          "height": 168
        }
      },
      "source": [
        "new_payments.printSchema()"
      ],
      "execution_count": 0,
      "outputs": [
        {
          "output_type": "stream",
          "text": [
            "root\n",
            " |-- id: long (nullable = true)\n",
            " |-- payments: array (nullable = true)\n",
            " |    |-- element: struct (containsNull = true)\n",
            " |    |    |-- payment_id: string (nullable = true)\n",
            " |    |    |-- payment_date: date (nullable = true)\n",
            " |    |    |-- payment_method: string (nullable = true)\n",
            " |    |    |-- paid_amount: double (nullable = true)\n",
            "\n"
          ],
          "name": "stdout"
        }
      ]
    },
    {
      "cell_type": "code",
      "metadata": {
        "id": "2yyfPqQNxMHR",
        "colab_type": "code",
        "colab": {}
      },
      "source": [
        "str_schema = \"array<struct<id:string,payment_date:date,method:string,amount:double>>\""
      ],
      "execution_count": 0,
      "outputs": []
    },
    {
      "cell_type": "code",
      "metadata": {
        "id": "DbaQrvP6xXzD",
        "colab_type": "code",
        "colab": {}
      },
      "source": [
        "new_payments = new_payments.withColumn(\"payments\", new_payments[\"payments\"].cast(str_schema))"
      ],
      "execution_count": 0,
      "outputs": []
    },
    {
      "cell_type": "code",
      "metadata": {
        "id": "WWW7xIAcxn01",
        "colab_type": "code",
        "outputId": "43daedd0-c732-4d0d-a558-4fd15bc0df24",
        "colab": {
          "base_uri": "https://localhost:8080/",
          "height": 168
        }
      },
      "source": [
        "new_payments.printSchema()"
      ],
      "execution_count": 0,
      "outputs": [
        {
          "output_type": "stream",
          "text": [
            "root\n",
            " |-- id: long (nullable = true)\n",
            " |-- payments: array (nullable = true)\n",
            " |    |-- element: struct (containsNull = true)\n",
            " |    |    |-- id: string (nullable = true)\n",
            " |    |    |-- payment_date: date (nullable = true)\n",
            " |    |    |-- method: string (nullable = true)\n",
            " |    |    |-- amount: double (nullable = true)\n",
            "\n"
          ],
          "name": "stdout"
        }
      ]
    },
    {
      "cell_type": "code",
      "metadata": {
        "id": "eu5FTTy4w30w",
        "colab_type": "code",
        "colab": {}
      },
      "source": [
        "loan_documents = loan_documents.join(new_payments,loan_documents.loan_id == new_payments.id).drop('id')"
      ],
      "execution_count": 0,
      "outputs": []
    },
    {
      "cell_type": "code",
      "metadata": {
        "id": "d4xS_-mTNc04",
        "colab_type": "code",
        "outputId": "f2d54177-c1d3-46e8-e871-72770ae78cc6",
        "colab": {
          "base_uri": "https://localhost:8080/",
          "height": 302
        }
      },
      "source": [
        "loan_documents.printSchema()"
      ],
      "execution_count": 0,
      "outputs": [
        {
          "output_type": "stream",
          "text": [
            "root\n",
            " |-- loan_id: string (nullable = true)\n",
            " |-- period: string (nullable = true)\n",
            " |-- accepted_at: string (nullable = true)\n",
            " |-- payday: string (nullable = true)\n",
            " |-- interest_rate: string (nullable = true)\n",
            " |-- installments: array (nullable = true)\n",
            " |    |-- element: map (containsNull = true)\n",
            " |    |    |-- key: long\n",
            " |    |    |-- value: timestamp (valueContainsNull = true)\n",
            " |-- payments: array (nullable = true)\n",
            " |    |-- element: struct (containsNull = true)\n",
            " |    |    |-- id: string (nullable = true)\n",
            " |    |    |-- payment_date: date (nullable = true)\n",
            " |    |    |-- method: string (nullable = true)\n",
            " |    |    |-- amount: double (nullable = true)\n",
            "\n"
          ],
          "name": "stdout"
        }
      ]
    },
    {
      "cell_type": "code",
      "metadata": {
        "id": "3ZNJhDR6Evjr",
        "colab_type": "code",
        "colab": {}
      },
      "source": [
        "from pyspark.sql.types import StructType, StructField, ArrayType, BooleanType"
      ],
      "execution_count": 0,
      "outputs": []
    },
    {
      "cell_type": "code",
      "metadata": {
        "id": "_CUYL-76V92H",
        "colab_type": "code",
        "colab": {}
      },
      "source": [
        "#str_schema = StructType([\n",
        "                         #StructField('latency', ArrayType(BooleanType(), True), True),\n",
        "                         #StructField('over30', ArrayType(BooleanType(), True) , True)\n",
        "                         #])"
      ],
      "execution_count": 0,
      "outputs": []
    },
    {
      "cell_type": "code",
      "metadata": {
        "id": "eJICvFU2Y1Gp",
        "colab_type": "code",
        "colab": {}
      },
      "source": [
        "#loan_documents = loan_documents.withColumn('metrics', F.lit(None).cast(str_schema))"
      ],
      "execution_count": 0,
      "outputs": []
    },
    {
      "cell_type": "code",
      "metadata": {
        "id": "1XwcHdhZY0_G",
        "colab_type": "code",
        "outputId": "cb4fc86e-d9b2-49a0-e950-5eb0bbfca0e7",
        "colab": {
          "base_uri": "https://localhost:8080/",
          "height": 302
        }
      },
      "source": [
        "loan_documents.printSchema()"
      ],
      "execution_count": 0,
      "outputs": [
        {
          "output_type": "stream",
          "text": [
            "root\n",
            " |-- loan_id: string (nullable = true)\n",
            " |-- period: string (nullable = true)\n",
            " |-- accepted_at: string (nullable = true)\n",
            " |-- payday: string (nullable = true)\n",
            " |-- interest_rate: string (nullable = true)\n",
            " |-- installments: array (nullable = true)\n",
            " |    |-- element: map (containsNull = true)\n",
            " |    |    |-- key: long\n",
            " |    |    |-- value: timestamp (valueContainsNull = true)\n",
            " |-- payments: array (nullable = true)\n",
            " |    |-- element: struct (containsNull = true)\n",
            " |    |    |-- id: string (nullable = true)\n",
            " |    |    |-- payment_date: date (nullable = true)\n",
            " |    |    |-- method: string (nullable = true)\n",
            " |    |    |-- amount: double (nullable = true)\n",
            "\n"
          ],
          "name": "stdout"
        }
      ]
    },
    {
      "cell_type": "code",
      "metadata": {
        "id": "Q_HpY83sKaqj",
        "colab_type": "code",
        "colab": {}
      },
      "source": [
        "from pyspark.sql.window import Window"
      ],
      "execution_count": 0,
      "outputs": []
    },
    {
      "cell_type": "code",
      "metadata": {
        "id": "3HMXAc-j2L7U",
        "colab_type": "code",
        "colab": {}
      },
      "source": [
        "w = Window.partitionBy(payments.loan_id).orderBy(['loan_id', 'payment_date'])"
      ],
      "execution_count": 0,
      "outputs": []
    },
    {
      "cell_type": "code",
      "metadata": {
        "id": "0eoNfGb81wsc",
        "colab_type": "code",
        "colab": {}
      },
      "source": [
        "payments = payments.withColumn(\"number\", F.row_number().over(w)).sort(\"payment_date\")"
      ],
      "execution_count": 0,
      "outputs": []
    },
    {
      "cell_type": "code",
      "metadata": {
        "id": "5JGehA6DZfr8",
        "colab_type": "code",
        "colab": {}
      },
      "source": [
        "loan_documents.createOrReplaceTempView('loan_documents')\n",
        "\n",
        "loan = spark.sql(\"SELECT loan_id as l_id, sequence(to_date(accepted_at), current_date(), interval 1 day) as i_date from loan_documents\").withColumn(\"i_date\", F.explode(F.col(\"i_date\")))\n",
        "\n",
        "loan = loan.join(installments, on=[loan.l_id == installments.loan_id, loan.i_date == installments.due_date], how='left').orderBy('i_date').drop('loan_id', 'installment_value')\n",
        "\n",
        "loan = loan.withColumn('i_number', F.when(loan.number.isNotNull(), loan.number).otherwise(F.last(loan.number, ignorenulls=True).over(Window.partitionBy('l_id').orderBy('i_date')))).drop('number')\n",
        "loan = loan.withColumn('new_due_date', F.when(loan.due_date.isNotNull(), loan.due_date).otherwise(F.last(loan.due_date, ignorenulls=True).over(Window.partitionBy('l_id').orderBy('i_date'))))\n",
        "\n",
        "loan = loan.drop('due_date')\n",
        "loan = loan.withColumnRenamed('new_due_date', 'due_date')\n",
        "\n",
        "loan_payments = spark.sql(\"SELECT loan_id as p_id, sequence(to_date(accepted_at), current_date(), interval 1 day) as p_date from loan_documents\").withColumn(\"p_date\", F.explode(F.col(\"p_date\")))\n",
        "\n",
        "loan_payments = loan_payments.join(payments, on=[loan_payments.p_id == payments.loan_id, loan_payments.p_date == payments.payment_date], how='left').orderBy('p_date').drop('loan_id', 'installment_id', 'payment_method', 'payment_id', 'paid_amount')\n",
        "loan_payments = loan_payments.withColumn('p_number', F.when(loan_payments.number.isNotNull(), loan_payments.number).otherwise(F.last(loan_payments.number, ignorenulls=True).over(Window.partitionBy('p_id').orderBy('p_date')))).drop('number')\n",
        "loan_payments = loan_payments.withColumn('new_payment_date', F.when(loan_payments.payment_date.isNotNull(), loan_payments.payment_date).otherwise(F.last(loan_payments.payment_date, ignorenulls=True).over(Window.partitionBy('p_id').orderBy('p_date'))))\n",
        "                                                                                                                                                                                                            \n",
        "loan_payments = loan_payments.drop('payment_date')\n",
        "loan_payments = loan_payments.withColumnRenamed('new_payment_date', 'payment_date')\n",
        "\n",
        "df = loan.join(loan_payments, on=[loan.l_id == loan_payments.p_id, loan.i_date == loan_payments.p_date], how='inner').orderBy('i_date').drop('p_id', 'p_date')\n",
        "df = df.withColumnRenamed('i_date', 'date')\n",
        "df = df.withColumnRenamed('l_id', 'id')\n",
        "\n",
        "df = df.fillna({'i_number': 0, 'p_number': 0})"
      ],
      "execution_count": 0,
      "outputs": []
    },
    {
      "cell_type": "code",
      "metadata": {
        "id": "5EAMap6Dbp4T",
        "colab_type": "code",
        "colab": {}
      },
      "source": [
        "def calculate_latency(i_number, p_number):\n",
        "  return F.when(i_number > p_number, True).otherwise(False)"
      ],
      "execution_count": 0,
      "outputs": []
    },
    {
      "cell_type": "code",
      "metadata": {
        "id": "KblqPFoadzcc",
        "colab_type": "code",
        "colab": {}
      },
      "source": [
        "def calculate_over30(i_number, p_number):\n",
        "  return F.when(((df.i_number - df.p_number) > 1), True).otherwise(False)"
      ],
      "execution_count": 0,
      "outputs": []
    },
    {
      "cell_type": "code",
      "metadata": {
        "id": "iQ7Fx8H1bnv7",
        "colab_type": "code",
        "colab": {}
      },
      "source": [
        "latency = F.udf(lambda row: calculate_latency(), BooleanType())\n",
        "over30 = F.udf(lambda row: calculate_over30(), BooleanType())"
      ],
      "execution_count": 0,
      "outputs": []
    },
    {
      "cell_type": "code",
      "metadata": {
        "id": "pLm30caOcVvl",
        "colab_type": "code",
        "colab": {}
      },
      "source": [
        "df = df.withColumn('latency', calculate_latency(df.i_number, df.p_number))"
      ],
      "execution_count": 0,
      "outputs": []
    },
    {
      "cell_type": "code",
      "metadata": {
        "id": "PYTsFVAheGDV",
        "colab_type": "code",
        "colab": {}
      },
      "source": [
        "df = df.withColumn('over30', calculate_over30(df.i_number, df.p_number))"
      ],
      "execution_count": 0,
      "outputs": []
    },
    {
      "cell_type": "code",
      "metadata": {
        "id": "YpqNMzRhhjmM",
        "colab_type": "code",
        "colab": {}
      },
      "source": [
        "df.createOrReplaceTempView(\"df\")"
      ],
      "execution_count": 0,
      "outputs": []
    },
    {
      "cell_type": "code",
      "metadata": {
        "id": "IS5mQEP4--Pd",
        "colab_type": "code",
        "colab": {}
      },
      "source": [
        "metrics = spark.sql('select id, struct(collect_list(latency) as latency, collect_list(over30) as over30) as metrics from df group by id')"
      ],
      "execution_count": 0,
      "outputs": []
    },
    {
      "cell_type": "code",
      "metadata": {
        "id": "RZi0fJIF-HJe",
        "colab_type": "code",
        "colab": {}
      },
      "source": [
        "str_schema = StructType([\n",
        "                         StructField('latency', ArrayType(BooleanType(), True), True),\n",
        "                         StructField('over30', ArrayType(BooleanType(), True) , True)\n",
        "                         ])"
      ],
      "execution_count": 0,
      "outputs": []
    },
    {
      "cell_type": "code",
      "metadata": {
        "id": "gtTHCTSZiX5C",
        "colab_type": "code",
        "colab": {}
      },
      "source": [
        "loan_documents = loan_documents.join(metrics, loan_documents.loan_id == metrics.id, how='inner').drop('id')"
      ],
      "execution_count": 0,
      "outputs": []
    },
    {
      "cell_type": "code",
      "metadata": {
        "id": "DSZnsIT7-3L8",
        "colab_type": "code",
        "colab": {}
      },
      "source": [
        "#loan_documents.show(5)"
      ],
      "execution_count": 0,
      "outputs": []
    },
    {
      "cell_type": "code",
      "metadata": {
        "id": "kI9CYYhg-3Cc",
        "colab_type": "code",
        "outputId": "794d1c08-cf4d-48ac-e2ff-cde21e3a44a2",
        "colab": {
          "base_uri": "https://localhost:8080/",
          "height": 386
        }
      },
      "source": [
        "loan_documents.printSchema()"
      ],
      "execution_count": 0,
      "outputs": [
        {
          "output_type": "stream",
          "text": [
            "root\n",
            " |-- loan_id: string (nullable = true)\n",
            " |-- period: string (nullable = true)\n",
            " |-- accepted_at: string (nullable = true)\n",
            " |-- payday: string (nullable = true)\n",
            " |-- interest_rate: string (nullable = true)\n",
            " |-- installments: array (nullable = true)\n",
            " |    |-- element: map (containsNull = true)\n",
            " |    |    |-- key: long\n",
            " |    |    |-- value: timestamp (valueContainsNull = true)\n",
            " |-- payments: array (nullable = true)\n",
            " |    |-- element: struct (containsNull = true)\n",
            " |    |    |-- id: string (nullable = true)\n",
            " |    |    |-- payment_date: date (nullable = true)\n",
            " |    |    |-- method: string (nullable = true)\n",
            " |    |    |-- amount: double (nullable = true)\n",
            " |-- metrics: struct (nullable = false)\n",
            " |    |-- latency: array (nullable = true)\n",
            " |    |    |-- element: boolean (containsNull = true)\n",
            " |    |-- over30: array (nullable = true)\n",
            " |    |    |-- element: boolean (containsNull = true)\n",
            "\n"
          ],
          "name": "stdout"
        }
      ]
    },
    {
      "cell_type": "code",
      "metadata": {
        "id": "2u5gj7W2uvBW",
        "colab_type": "code",
        "colab": {}
      },
      "source": [
        "loan_documents.write.parquet('output/loan_documents')"
      ],
      "execution_count": 0,
      "outputs": []
    },
    {
      "cell_type": "code",
      "metadata": {
        "id": "ynvdWazFuvI-",
        "colab_type": "code",
        "colab": {}
      },
      "source": [
        ""
      ],
      "execution_count": 0,
      "outputs": []
    },
    {
      "cell_type": "code",
      "metadata": {
        "id": "_O1MzCiluvqO",
        "colab_type": "code",
        "colab": {}
      },
      "source": [
        ""
      ],
      "execution_count": 0,
      "outputs": []
    },
    {
      "cell_type": "markdown",
      "metadata": {
        "id": "UAg8QATqjDLt",
        "colab_type": "text"
      },
      "source": [
        "# TODO\n",
        "\n",
        "\n",
        "1. Create dataframes with the report's data\n",
        "4. Plot data using seaborn library\n",
        "3. Data cleansing (validate data types, empty rows, check for duplicated data) on pre-processing\n",
        "5. Save parquet file partitioned by accepted_at's year\n",
        "\n"
      ]
    },
    {
      "cell_type": "code",
      "metadata": {
        "id": "8kVChRFhvEQi",
        "colab_type": "code",
        "colab": {}
      },
      "source": [
        ""
      ],
      "execution_count": 0,
      "outputs": []
    }
  ]
}